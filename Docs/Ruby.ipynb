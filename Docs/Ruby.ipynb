{
 "cells": [
  {
   "cell_type": "markdown",
   "id": "71f1150a-1887-437c-9c60-f8454f934af3",
   "metadata": {},
   "source": [
    "## Origen e Historia de Ruby\n",
    "\n",
    "Ruby fue creado en **1993** por el programador japonés **Yukihiro \"Matz\" Matsumoto**, quien buscaba un lenguaje que combinara la potencia de Perl con la elegancia de Smalltalk y la simplicidad de otros lenguajes como Eiffel, Ada y Lisp . Fue presentado públicamente en **1995** y diseñado con el principio de hacer al programador feliz, priorizando la legibilidad y la expresividad del código .\n",
    "\n",
    "Versiones importantes:\n",
    "- **Ruby 1.0 (1996)**: Primera versión estable.\n",
    "- **Ruby 1.8 (2003)**: Versión ampliamente adoptada, base para el auge de Rails.\n",
    "- **Ruby 1.9 (2007)**: Introducción de la máquina virtual YARV, mejoras en rendimiento y sintaxis.\n",
    "- **Ruby 2.0 (2013)**: Características modernas como *keyword arguments* y refinamientos.\n",
    "- **Ruby 3.0 (2020)**: Enfoque en rendimiento con el objetivo de ser 3 veces más rápido que Ruby 2.0 (*3x3*), además de tipado estático opcional con RBS.\n",
    "\n",
    "## Ventajas de Ruby\n",
    "\n",
    "- **Sintaxis elegante y legible**: Cercana al lenguaje natural, facilita la escritura y comprensión del código .\n",
    "- **Orientado a objetos puro**: Todo en Ruby es un objeto, incluso números y booleanos .\n",
    "- **Productividad alta**: Permite escribir menos código para lograr más, ideal para prototipado rápido.\n",
    "- **Comunidad y ecosistema**: Rico en gemas (librerías) y con el famoso framework **Ruby on Rails** para desarrollo web .\n",
    "- **Open-source y gratuito**: Código libre, sin costos de licencia .\n",
    "\n",
    "### Desventajas de Ruby\n",
    "- **Rendimiento**: Tradicionalmente más lento que lenguajes compilados como C++ o Go, aunque Ruby 3 ha mejorado significativamente .\n",
    "- **Menor uso fuera del backend web**: Aunque posible, no es común en desarrollo móvil, de escritorio o sistemas embebidos.\n",
    "\n",
    "## Comentarios en Ruby\n",
    "\n",
    "Ruby soporta dos tipos de comentarios:\n",
    "\n",
    "### 1. Comentario de una sola línea con `#`\n",
    "\n",
    "Cualquier texto después de `#` hasta el final de la línea se ignora."
   ]
  },
  {
   "cell_type": "code",
   "execution_count": 2,
   "id": "987b50c6-9182-41af-a362-1fb80b25fb69",
   "metadata": {},
   "outputs": [
    {
     "name": "stdout",
     "output_type": "stream",
     "text": [
      "Hola mundo\n"
     ]
    }
   ],
   "source": [
    "# Esto es un comentario de una línea\n",
    "puts \"Hola mundo\""
   ]
  },
  {
   "cell_type": "markdown",
   "id": "703fca74-9ca4-45bc-bf83-814bbd57cd39",
   "metadata": {},
   "source": [
    "### 2. Comentarios de múltiples líneas con `=begin` / `=end`\n",
    "\n",
    "Aunque válido, este estilo es raramente usado en la práctica moderna; se prefiere usar múltiples líneas con `#`."
   ]
  },
  {
   "cell_type": "code",
   "execution_count": 3,
   "id": "db3625be-92d7-4220-80f3-32001846a13e",
   "metadata": {},
   "outputs": [
    {
     "name": "stdout",
     "output_type": "stream",
     "text": [
      "Fin del comentario\n"
     ]
    }
   ],
   "source": [
    "=begin\n",
    "Este es un comentario\n",
    "de varias líneas.\n",
    "No es común en código actual.\n",
    "=end\n",
    "puts \"Fin del comentario\""
   ]
  },
  {
   "cell_type": "markdown",
   "id": "3b681220-cbd9-4800-a6a6-d670351cb8af",
   "metadata": {},
   "source": [
    "## Variables y Tipos de Datos\n",
    "\n",
    "Ruby es un lenguaje **dinámicamente tipado** y **fuertemente tipado**: las variables no requieren declaración de tipo, pero los tipos se respetan en operaciones . No se usa ningún símbolo especial para variables locales.\n",
    "\n",
    "### Tipos de variables\n",
    "- **Locales**: `nombre = \"Ana\"`\n",
    "- **De instancia**: `@edad = 25`\n",
    "- **De clase**: `@@contador = 0`\n",
    "- **Globales**: `$debug = true`\n",
    "- **Constantes**: `PI = 3.1416` (comienzan con mayúscula)\n",
    "\n",
    "### Tipos de datos primitivos\n",
    "1. **Integer**: `42`\n",
    "2. **Float**: `3.14`\n",
    "3. **String**: `\"Hola\"`\n",
    "4. **Symbol**: `:nombre` (identificadores únicos e inmutables)\n",
    "5. **Boolean**: `true` / `false`\n",
    "6. **Nil**: `nil` (valor nulo)\n",
    "7. **Array**: `[1, 2, 3]`\n",
    "8. **Hash**: `{ \"clave\" => \"valor\" }`"
   ]
  },
  {
   "cell_type": "code",
   "execution_count": 4,
   "id": "c0081721-a936-4cff-b3b9-2e6bb8654e7b",
   "metadata": {},
   "outputs": [
    {
     "name": "stdout",
     "output_type": "stream",
     "text": [
      "Ana tiene 25 años.\n"
     ]
    }
   ],
   "source": [
    "nombre = \"Ana\"      # string\n",
    "edad = 25           # integer\n",
    "activo = true       # boolean\n",
    "PI = 3.1416         # constante\n",
    "puts \"#{nombre} tiene #{edad} años.\""
   ]
  },
  {
   "cell_type": "markdown",
   "id": "32a42e01-a3bc-4b95-941b-29aa0c807242",
   "metadata": {},
   "source": [
    "## Estructuras de Control\n",
    "\n",
    "Ruby ofrece estructuras de control expresivas y flexibles."
   ]
  },
  {
   "cell_type": "code",
   "execution_count": 16,
   "id": "fdf4742f-2859-4f85-aa1e-babc26647109",
   "metadata": {},
   "outputs": [
    {
     "name": "stdout",
     "output_type": "stream",
     "text": [
      "Eres mayor de edad.\n",
      "Acceso permitido.\n",
      "Acceso limitado\n",
      "For: 0\n",
      "For: 1\n",
      "For: 2\n",
      "For: 3\n",
      "For: 4\n",
      "While: 0\n",
      "While: 1\n",
      "While: 2\n",
      "Until: 0\n",
      "Until: 1\n",
      "Fruit: manzana\n",
      "Fruit: banana\n",
      "Fruit: cereza\n"
     ]
    },
    {
     "data": {
      "text/plain": [
       "[\"manzana\", \"banana\", \"cereza\"]"
      ]
     },
     "execution_count": 16,
     "metadata": {},
     "output_type": "execute_result"
    }
   ],
   "source": [
    "edad = 20\n",
    "\n",
    "# Condicionales\n",
    "if edad >= 18\n",
    "  puts \"Eres mayor de edad.\"\n",
    "elsif edad > 0\n",
    "  puts \"Eres menor.\"\n",
    "else\n",
    "  puts \"Edad inválida.\"\n",
    "end\n",
    "\n",
    "# A menos que (unless)\n",
    "unless edad < 18\n",
    "  puts \"Acceso permitido.\"\n",
    "end\n",
    "\n",
    "# Case (más potente que switch)\n",
    "tipo = :usuario\n",
    "case tipo\n",
    "when :admin\n",
    "  puts \"Acceso total\"\n",
    "when :usuario\n",
    "  puts \"Acceso limitado\"\n",
    "else\n",
    "  puts \"Tipo desconocido\"\n",
    "end\n",
    "\n",
    "# Bucles\n",
    "5.times do |i|\n",
    "  puts \"For: #{i}\"\n",
    "end\n",
    "\n",
    "contador = 0\n",
    "while contador < 3\n",
    "  puts \"While: #{contador}\"\n",
    "  contador += 1\n",
    "end\n",
    "\n",
    "contador2 = 0\n",
    "until contador2 >= 2\n",
    "  puts \"Until: #{contador2}\"\n",
    "  contador2 += 1\n",
    "end\n",
    "\n",
    "# Iteración sobre colecciones\n",
    "frutas = [\"manzana\", \"banana\", \"cereza\"]\n",
    "frutas.each do |fruta|\n",
    "  puts \"Fruit: #{fruta}\"\n",
    "end"
   ]
  },
  {
   "cell_type": "markdown",
   "id": "e50f6b2b-cbcd-4b34-a1c3-7f015ef83200",
   "metadata": {},
   "source": [
    "## Operadores y Comparadores\n",
    "\n",
    "Ruby incluye operadores intuitivos y expresivos:\n",
    "\n",
    "- **Aritméticos**: `+`, `-`, `*`, `/`, `%`, `**` (exponenciación)\n",
    "- **Asignación**: `=`, `+=`, `||=` (asignación condicional)\n",
    "- **Comparación**: `==`, `!=`, `<`, `>`, `<=`, `>=`, `<=>` (operador nave espacial)\n",
    "- **Lógicos**: `&&`, `||`, `!` (también `and`, `or`, pero con menor precedencia)"
   ]
  },
  {
   "cell_type": "code",
   "execution_count": 6,
   "id": "506b9649-064d-472e-86fd-ba8cc648271e",
   "metadata": {},
   "outputs": [
    {
     "name": "stdout",
     "output_type": "stream",
     "text": [
      "1000\n",
      "1\n",
      "Valor por defecto\n"
     ]
    }
   ],
   "source": [
    "a = 10\n",
    "b = 3\n",
    "puts a ** b        # 1000 (exponenciación)\n",
    "puts a <=> b       # 1 (a > b)\n",
    "mensaje = nil\n",
    "mensaje ||= \"Valor por defecto\"\n",
    "puts mensaje       # \"Valor por defecto\""
   ]
  },
  {
   "cell_type": "markdown",
   "id": "8bbd82e1-aa3b-405e-ac41-cb2ed07dda2d",
   "metadata": {},
   "source": [
    "## Constantes\n",
    "\n",
    "Las constantes comienzan con letra mayúscula y, por convención, se escriben en mayúsculas completas. Ruby permite reasignarlas, pero emite una advertencia."
   ]
  },
  {
   "cell_type": "code",
   "execution_count": 7,
   "id": "af342a35-263a-44ad-94d8-76f05929602a",
   "metadata": {},
   "outputs": [
    {
     "name": "stdout",
     "output_type": "stream",
     "text": [
      "777\n"
     ]
    }
   ],
   "source": [
    "CONSTANTE = \"777\"\n",
    "puts CONSTANTE\n",
    "\n",
    "# Ruby emitirá una advertencia si se reasigna:\n",
    "# CONSTANTE = \"nuevo valor\" # warning: already initialized constant"
   ]
  },
  {
   "cell_type": "markdown",
   "id": "7c1e090a-f566-4fa0-abfc-1d42294095dc",
   "metadata": {},
   "source": [
    "## Funciones en Ruby\n",
    "\n",
    "En Ruby, las funciones se llaman **métodos**. Se definen con `def` y terminan con `end`. Todo método devuelve un valor (el resultado de la última expresión)."
   ]
  },
  {
   "cell_type": "code",
   "execution_count": 8,
   "id": "63cdff0a-fb9c-49df-b411-3676fcde9460",
   "metadata": {},
   "outputs": [
    {
     "name": "stdout",
     "output_type": "stream",
     "text": [
      "¡Hola, María!\n",
      "Adiós, amigo.\n",
      "Adiós, Carlos.\n",
      "8\n"
     ]
    }
   ],
   "source": [
    "def saludar(nombre)\n",
    "  \"¡Hola, #{nombre}!\"\n",
    "end\n",
    "\n",
    "puts saludar(\"María\")\n",
    "\n",
    "# Parámetros opcionales con valor por defecto\n",
    "def despedirse(nombre = \"amigo\")\n",
    "  puts \"Adiós, #{nombre}.\"\n",
    "end\n",
    "\n",
    "despedirse\n",
    "despedirse(\"Carlos\")\n",
    "\n",
    "# Valor de retorno explícito con 'return' (opcional)\n",
    "def suma(a, b)\n",
    "  return a + b\n",
    "end\n",
    "\n",
    "puts suma(3, 5) # 8\n",
    "\n",
    "# Ruby tiene cientos de métodos integrados:\n",
    "# Cadenas: length, upcase, split\n",
    "# Arrays: size, push, sort\n",
    "# Números: even?, odd?, abs"
   ]
  },
  {
   "cell_type": "markdown",
   "id": "d617f2d8-4dc7-4045-9f71-36d6d9734442",
   "metadata": {},
   "source": [
    "## Programación Orientada a Objetos (POO) en Ruby\n",
    "\n",
    "Ruby es un lenguaje **100% orientado a objetos**: todo valor es un objeto, y todo método es un mensaje enviado a un objeto.\n",
    "\n",
    "### Clases y Objetos"
   ]
  },
  {
   "cell_type": "code",
   "execution_count": 9,
   "id": "f0f32541-7074-4110-ada4-b856abc74d4b",
   "metadata": {},
   "outputs": [
    {
     "name": "stdout",
     "output_type": "stream",
     "text": [
      "Este coche es un Toyota Corolla.\n"
     ]
    }
   ],
   "source": [
    "class Coche\n",
    "  # Constructor\n",
    "  def initialize(marca, modelo)\n",
    "    @marca = marca\n",
    "    @modelo = modelo\n",
    "  end\n",
    "\n",
    "  # Método de instancia\n",
    "  def describir\n",
    "    \"Este coche es un #{@marca} #{@modelo}.\"\n",
    "  end\n",
    "end\n",
    "\n",
    "mi_coche = Coche.new(\"Toyota\", \"Corolla\")\n",
    "puts mi_coche.describir"
   ]
  },
  {
   "cell_type": "markdown",
   "id": "bf30fe4c-d902-4670-993c-6eff2b670111",
   "metadata": {},
   "source": [
    "### Principios fundamentales\n",
    "\n",
    "1. **Encapsulamiento**:  \n",
    "   Los atributos son privados por defecto. Se usan métodos *accessors* (`attr_reader`, `attr_accessor`) para exponerlos.\n",
    "\n",
    "2. **Herencia**:  \n",
    "   Se usa `<` para heredar. Ruby no soporta herencia múltiple, pero usa *módulos* para funcionalidad compartida."
   ]
  },
  {
   "cell_type": "code",
   "execution_count": 10,
   "id": "fc388566-1b46-4f47-8123-c54231d176d5",
   "metadata": {},
   "outputs": [
    {
     "name": "stdout",
     "output_type": "stream",
     "text": [
      "Es una motocicleta.\n"
     ]
    }
   ],
   "source": [
    "class Vehiculo\n",
    "  def initialize(tipo)\n",
    "    @tipo = tipo\n",
    "  end\n",
    "end\n",
    "\n",
    "class Moto < Vehiculo\n",
    "  def mostrar_tipo\n",
    "    \"Es una #{@tipo}.\"\n",
    "  end\n",
    "end\n",
    "\n",
    "mi_moto = Moto.new(\"motocicleta\")\n",
    "puts mi_moto.mostrar_tipo"
   ]
  },
  {
   "cell_type": "markdown",
   "id": "d10072be-25f0-44c5-b94a-18a969d7750f",
   "metadata": {},
   "source": [
    "3. **Polimorfismo**:  \n",
    "   Objetos de distintas clases responden al mismo mensaje.\n",
    "\n",
    "4. **Abstracción**:  \n",
    "   Se logra mediante clases base o módulos con métodos abstractos."
   ]
  },
  {
   "cell_type": "code",
   "execution_count": 11,
   "id": "aacc4fe9-e81b-40a8-8fa8-59b607ee62ce",
   "metadata": {},
   "outputs": [
    {
     "data": {
      "text/plain": [
       ":hacer_sonido"
      ]
     },
     "execution_count": 11,
     "metadata": {},
     "output_type": "execute_result"
    }
   ],
   "source": [
    "module Animal\n",
    "  def hacer_sonido\n",
    "    raise NotImplementedError, \"Debe implementarse en subclase\"\n",
    "  end\n",
    "end\n",
    "\n",
    "class Perro\n",
    "  include Animal\n",
    "  def hacer_sonido\n",
    "    \"¡Guau!\"\n",
    "  end\n",
    "end"
   ]
  },
  {
   "cell_type": "markdown",
   "id": "bf41251f-1053-4ef8-af4c-67ba819035c5",
   "metadata": {},
   "source": [
    "### Características avanzadas\n",
    "\n",
    "- **Métodos de clase**: Definidos con `self.nombre`.\n",
    "- **Constantes de clase**: `PI = 3.1416` dentro de una clase.\n",
    "- **Módulos**: Para *namespacing* y *mixins*."
   ]
  },
  {
   "cell_type": "code",
   "execution_count": 12,
   "id": "b45d7efa-1096-4b8b-a90e-b413a7831704",
   "metadata": {},
   "outputs": [
    {
     "name": "stdout",
     "output_type": "stream",
     "text": [
      "12.5664\n"
     ]
    }
   ],
   "source": [
    "class Matematicas\n",
    "  PI = 3.1416\n",
    "\n",
    "  def self.area_circulo(radio)\n",
    "    PI * radio * radio\n",
    "  end\n",
    "end\n",
    "\n",
    "puts Matematicas.area_circulo(2) # 12.5664"
   ]
  },
  {
   "cell_type": "markdown",
   "id": "e40a69f2-ee74-434e-a1fa-04dabd29a30e",
   "metadata": {},
   "source": [
    "## Manejo de Errores y Excepciones\n",
    "\n",
    "Ruby usa `begin`, `rescue`, `else` y `ensure` para manejar excepciones."
   ]
  },
  {
   "cell_type": "code",
   "execution_count": 13,
   "id": "9cacc625-da65-447d-b7f3-541dfe8441d6",
   "metadata": {},
   "outputs": [
    {
     "name": "stdout",
     "output_type": "stream",
     "text": [
      "Error: No se puede dividir entre cero.\n",
      "Operación finalizada.\n"
     ]
    }
   ],
   "source": [
    "begin\n",
    "  divisor = 0\n",
    "  if divisor == 0\n",
    "    raise ZeroDivisionError, \"No se puede dividir entre cero.\"\n",
    "  end\n",
    "  resultado = 10 / divisor\n",
    "  puts \"Resultado: #{resultado}\"\n",
    "rescue ZeroDivisionError => e\n",
    "  puts \"Error: #{e.message}\"\n",
    "ensure\n",
    "  puts \"Operación finalizada.\"\n",
    "end"
   ]
  },
  {
   "cell_type": "markdown",
   "id": "4455ae35-e602-4484-aead-238b3fe69446",
   "metadata": {},
   "source": [
    "## Arrays Asociativos y Multidimensionales\n",
    "\n",
    "En Ruby, los arrays asociativos se llaman **Hashes**. Los arrays multidimensionales son arrays que contienen otros arrays o hashes."
   ]
  },
  {
   "cell_type": "code",
   "execution_count": 14,
   "id": "3b15fa9c-92b7-41ad-b5f9-bbc009cabfeb",
   "metadata": {},
   "outputs": [
    {
     "name": "stdout",
     "output_type": "stream",
     "text": [
      "Sofía tiene 28 años.\n",
      "Lista de productos:\n",
      "- Laptop: $1200\n",
      "- Mouse: $25\n",
      "- Teclado: $75\n"
     ]
    },
    {
     "data": {
      "text/plain": [
       "[{\"nombre\" => \"Laptop\", \"precio\" => 1200}, {\"nombre\" => \"Mouse\", \"precio\" => 25}, {\"nombre\" => \"Teclado\", \"precio\" => 75}]"
      ]
     },
     "execution_count": 14,
     "metadata": {},
     "output_type": "execute_result"
    }
   ],
   "source": [
    "# Hash (array asociativo)\n",
    "usuario = {\n",
    "  \"nombre\" => \"Sofía\",\n",
    "  \"edad\" => 28,\n",
    "  \"activo\" => true\n",
    "}\n",
    "\n",
    "puts \"#{usuario[\"nombre\"]} tiene #{usuario[\"edad\"]} años.\"\n",
    "\n",
    "# Array multidimensional (de hashes)\n",
    "productos = [\n",
    "  { \"nombre\" => \"Laptop\", \"precio\" => 1200 },\n",
    "  { \"nombre\" => \"Mouse\", \"precio\" => 25 },\n",
    "  { \"nombre\" => \"Teclado\", \"precio\" => 75 }\n",
    "]\n",
    "\n",
    "puts \"Lista de productos:\"\n",
    "productos.each do |producto|\n",
    "  puts \"- #{producto[\"nombre\"]}: $#{producto[\"precio\"]}\"\n",
    "end"
   ]
  },
  {
   "cell_type": "markdown",
   "id": "2f8dc4f6-f794-4719-9a02-e59af1659d1d",
   "metadata": {},
   "source": [
    "## Tipado en Ruby\n",
    "\n",
    "Ruby es **dinámicamente tipado**: el tipo de una variable se determina en tiempo de ejecución. También es **fuertemente tipado**: no se realizan conversiones implícitas entre tipos incompatibles . A partir de Ruby 3, se introdujo **RBS** (Ruby Signature) para tipado estático opcional, sin afectar la ejecución."
   ]
  },
  {
   "cell_type": "code",
   "execution_count": 15,
   "id": "11dfb62a-2aaa-4723-916e-2b35a7d1b75b",
   "metadata": {},
   "outputs": [
    {
     "data": {
      "text/plain": [
       "\"ahora es string\""
      ]
     },
     "execution_count": 15,
     "metadata": {},
     "output_type": "execute_result"
    }
   ],
   "source": [
    "x = 10\n",
    "x = \"ahora es string\" # válido en tipado dinámico\n",
    "# puts x + 5 # TypeError: no implicit conversion of Integer into String"
   ]
  },
  {
   "cell_type": "markdown",
   "id": "ffbb0dab-eb1d-4f3a-ba5d-ba01cb018781",
   "metadata": {},
   "source": [
    "## Compilación e Interpretación\n",
    "\n",
    "Ruby es un lenguaje **interpretado**, pero modernas implementaciones (como MRI con YARV) **compilan el código fuente a bytecode** que luego es ejecutado por una máquina virtual . Ruby 3 incluye un **compilador JIT (Just-In-Time)** para mejorar el rendimiento en cargas de trabajo intensivas .\n",
    "\n",
    "- **Multiplataforma**: Funciona en Windows, Linux, macOS.\n",
    "- **Compatibilidad**: Herramientas como `rubocop` ayudan a mantener compatibilidad entre versiones.\n",
    "- **Implementaciones**: Además de MRI (Matz's Ruby Interpreter), existen JRuby (para JVM) y TruffleRuby (alto rendimiento)."
   ]
  }
 ],
 "metadata": {
  "kernelspec": {
   "display_name": "Ruby 3 (iruby kernel)",
   "language": "ruby",
   "name": "ruby3"
  },
  "language_info": {
   "file_extension": ".rb",
   "mimetype": "application/x-ruby",
   "name": "ruby",
   "version": "3.4.7"
  }
 },
 "nbformat": 4,
 "nbformat_minor": 5
}
