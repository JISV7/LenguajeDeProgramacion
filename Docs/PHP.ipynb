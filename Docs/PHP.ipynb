{
 "cells": [
  {
   "cell_type": "markdown",
   "id": "73e5372a-d494-4df8-a161-9421eb705d0c",
   "metadata": {},
   "source": [
    "Origen e Historia de PHP\n",
    "\n",
    "PHP (acrónimo recursivo de **PHP: Hypertext Preprocessor**) fue creado en **1994** por **Rasmus Lerdorf**, un programador danés-canadiense, inicialmente como una serie de scripts en C para monitorear visitas a su página web personal. La primera versión pública, **PHP/FI (Personal Home Page / Forms Interpreter)**, se lanzó en **1995**.\n",
    "\n",
    "Versiones importantes:\n",
    "- **PHP 3 (1998)**: Rediseño completo del lenguaje, introduciendo el modelo de extensiones y sentando las bases de la sintaxis moderna.\n",
    "- **PHP 4 (2000)**: Introducción del motor **Zend Engine**, mejorando el rendimiento y la estabilidad.\n",
    "- **PHP 5 (2004)**: Soporte robusto para **Programación Orientada a Objetos (POO)** con motores mejorados.\n",
    "- **PHP 7 (2015)**: Gran salto en rendimiento (hasta 2x más rápido) y menor consumo de memoria.\n",
    "- **PHP 8.0 (2020)**: Introducción del **compilador JIT (Just-In-Time)**, atributos, tipos de unión y manejo de errores más coherente.\n",
    "- **PHP 8.3 (2023)**: Nuevos tipos (`readonly` para clases), mejoras en rendimiento y seguridad.\n",
    "\n",
    "## Ventajas de PHP\n",
    "\n",
    "- **Fácil de aprender**: Sintaxis simple y abundante documentación hacen que sea ideal para principiantes.\n",
    "- **Multiplataforma**: Funciona en Windows, Linux, macOS y se integra con todos los servidores web principales (Apache, Nginx).\n",
    "- **Comunidad enorme**: Uno de los lenguajes con más recursos, frameworks (Laravel, Symfony) y librerías disponibles.\n",
    "- **Ideal para web**: Diseñado específicamente para desarrollo web, con soporte nativo para HTML y bases de datos.\n",
    "- **Código abierto y gratuito**: Totalmente libre para usar, modificar y distribuir.\n",
    "\n",
    "### Desventajas de PHP\n",
    "- **Inconsistencia histórica**: Debido a su evolución orgánica, algunas funciones tienen nombres y parámetros inconsistentes.\n",
    "- **Seguridad**: Requiere buenas prácticas explícitas por parte del desarrollador para evitar vulnerabilidades comunes (inyecciones, XSS).\n",
    "- **Tipado débil**: Aunque ha mejorado mucho, su naturaleza dinámica puede llevar a errores difíciles de rastrear si no se usan tipos estrictos.\n",
    "\n",
    "## Comentarios en PHP\n",
    "\n",
    "PHP soporta varios estilos de comentarios, heredados de C y Unix.\n",
    "\n",
    "### 1. Comentario de una sola línea con `//` o `#`\n",
    "\n",
    "Cualquier texto después de `//` o `#` hasta el final de la línea se ignora."
   ]
  },
  {
   "cell_type": "code",
   "execution_count": null,
   "id": "754486ef-19a7-455c-bf1f-aca0eeda29e7",
   "metadata": {},
   "outputs": [],
   "source": [
    "// Esto es un comentario de una línea\n",
    "# Esto también lo es\n",
    "echo \"Hola mundo\\n\";"
   ]
  },
  {
   "cell_type": "markdown",
   "id": "8f5534fa-7bd2-43f4-b377-1abf8b28b981",
   "metadata": {},
   "source": [
    "### 2. Comentario de múltiples líneas con `/* ... */`\n",
    "\n",
    "Útil para bloques de documentación o para desactivar grandes secciones de código temporalmente."
   ]
  },
  {
   "cell_type": "code",
   "execution_count": null,
   "id": "9aef67df-1ca2-4ece-8ffc-4432dc158364",
   "metadata": {},
   "outputs": [],
   "source": [
    "/*\n",
    "Este es un comentario\n",
    "de varias líneas.\n",
    "*/\n",
    "echo \"Fin del comentario\\n\";"
   ]
  },
  {
   "cell_type": "markdown",
   "id": "78b1c5a8-641e-4e50-896b-eb55907692a8",
   "metadata": {},
   "source": [
    "### 3. Comentarios para documentación con `/** ... */`\n",
    "\n",
    "Usados por herramientas como **PHPDocumentor** para generar documentación automática. Son un estándar de facto en el ecosistema PHP."
   ]
  },
  {
   "cell_type": "code",
   "execution_count": null,
   "id": "d1144f9a-d5ba-4bd7-8007-cd62fa15b381",
   "metadata": {},
   "outputs": [],
   "source": [
    "/**\n",
    " * Saluda a una persona por su nombre.\n",
    " *\n",
    " * @param string $nombre Nombre de la persona\n",
    " * @return string Mensaje de saludo\n",
    " */\n",
    "function saludar(string $nombre): string {\n",
    "    return \"¡Hola, $nombre!\";\n",
    "}"
   ]
  },
  {
   "cell_type": "markdown",
   "id": "eab63b4a-4ea5-4df4-9579-21ae4d213090",
   "metadata": {},
   "source": [
    "## Variables y Tipos de Datos\n",
    "\n",
    "PHP es un lenguaje **dinámicamente tipado**, pero desde PHP 7 permite **declaraciones de tipo estrictas**. Todas las variables comienzan con el símbolo `$`.\n",
    "\n",
    "### Tipos de datos primitivos\n",
    "1. **Escalares**: `boolean`, `integer`, `float` (o `double`), `string`\n",
    "2. **Compuestos**: `array`, `object`, `callable`, `iterable`\n",
    "3. **Especiales**: `null`, `resource`\n",
    "\n",
    "A partir de PHP 8, se introdujeron tipos más avanzados como `mixed`, `never` y `null` como tipo independiente."
   ]
  },
  {
   "cell_type": "code",
   "execution_count": null,
   "id": "9f06c058-7c59-4873-bdc6-8c69f2689a19",
   "metadata": {},
   "outputs": [],
   "source": [
    "<?php\n",
    "declare(strict_types=1); // Habilita el tipado estricto\n",
    "\n",
    "$nombre = \"Ana\";    // cadena\n",
    "$edad = 25;         // entero\n",
    "$activo = true;     // booleano\n",
    "define('PI', 3.1416); // constante\n",
    "echo \"$nombre tiene $edad años.\\n\";"
   ]
  },
  {
   "cell_type": "markdown",
   "id": "a02b470e-3efc-4b56-b085-9151e1d231a4",
   "metadata": {},
   "source": [
    "## Estructuras de Control\n",
    "\n",
    "PHP ofrece estructuras de control familiares para lenguajes de estilo C, con la opción de usar una sintaxis alternativa con dos puntos y `endif`, `endwhile`, etc., muy útil en plantillas."
   ]
  },
  {
   "cell_type": "code",
   "execution_count": null,
   "id": "f3453b0f-a644-45ec-b502-b2132732312a",
   "metadata": {},
   "outputs": [],
   "source": [
    "<?php\n",
    "$edad = 20;\n",
    "\n",
    "// Condicionales\n",
    "if ($edad >= 18) {\n",
    "    echo \"Eres mayor de edad.\\n\";\n",
    "} elseif ($edad > 0) {\n",
    "    echo \"Eres menor.\\n\";\n",
    "} else {\n",
    "    echo \"Edad inválida.\\n\";\n",
    "}\n",
    "\n",
    "// Switch\n",
    "$tipo = \"usuario\";\n",
    "switch ($tipo) {\n",
    "    case \"admin\":\n",
    "        echo \"Acceso total\\n\";\n",
    "        break;\n",
    "    default:\n",
    "        echo \"Acceso limitado\\n\";\n",
    "        break;\n",
    "}\n",
    "\n",
    "// Bucles\n",
    "for ($i = 0; $i < 5; $i++) {\n",
    "    echo \"For: $i\\n\";\n",
    "}\n",
    "\n",
    "$contador = 0;\n",
    "while ($contador < 3) {\n",
    "    echo \"While: $contador\\n\";\n",
    "    $contador++;\n",
    "}\n",
    "\n",
    "$contador2 = 0;\n",
    "do {\n",
    "    echo \"Do-while: $contador2\\n\";\n",
    "    $contador2++;\n",
    "} while ($contador2 < 2);\n",
    "\n",
    "// Iteración sobre colecciones\n",
    "$frutas = [\"manzana\", \"banana\", \"cereza\"];\n",
    "foreach ($frutas as $fruta) {\n",
    "    echo \"Fruit: $fruta\\n\";\n",
    "}"
   ]
  },
  {
   "cell_type": "markdown",
   "id": "9ed6c5ce-97ec-4c87-8388-d44d4880b00c",
   "metadata": {},
   "source": [
    "## Operadores y Comparadores\n",
    "\n",
    "PHP incluye operadores estándar y algunos únicos:\n",
    "\n",
    "- **Aritméticos**: `+`, `-`, `*`, `/`, `%`, `**` (exponenciación)\n",
    "- **Asignación**: `=`, `+=`, `.=` (concatenación)\n",
    "- **Comparación**: `==`, `!=`, `<`, `>`, `<=`, `>=`, `===` (igualdad estricta), `!==`\n",
    "- **Lógicos**: `&&`, `||`, `!`, `and`, `or`, `xor`\n",
    "- **Nulo-coalescente**: `??` (devuelve el lado izquierdo si no es nulo, sino el derecho)\n",
    "- **Condicionales**: `?:` (operador ternario), `?:` (operador de fusión nula)\n",
    "- **Concatenación**: `.` y `.=`"
   ]
  },
  {
   "cell_type": "code",
   "execution_count": null,
   "id": "ddf7cac6-1ff6-4839-b8d7-c92f44ec6ff3",
   "metadata": {},
   "outputs": [],
   "source": [
    "<?php\n",
    "$a = 10; $b = 3;\n",
    "echo intdiv($a, $b) . \"\\n\"; // 3 (división entera)\n",
    "\n",
    "$mensaje = null;\n",
    "$valor = $mensaje ?? \"Valor por defecto\";\n",
    "echo $valor . \"\\n\"; // \"Valor por defecto\"\n",
    "\n",
    "$esMayor = $edad >= 18 ? true : false;"
   ]
  },
  {
   "cell_type": "markdown",
   "id": "0cfc729e-9ec1-44fc-a279-02ef68f222a0",
   "metadata": {},
   "source": [
    "## Constantes\n",
    "\n",
    "Las constantes se declaran con `define()` o con la palabra clave `const` dentro de una clase. Son inmutables y accesibles globalmente."
   ]
  },
  {
   "cell_type": "code",
   "execution_count": null,
   "id": "a4b6d016-338f-475b-bcc6-f3775c3bd27d",
   "metadata": {},
   "outputs": [],
   "source": [
    "<?php\n",
    "const CONSTANTE = \"777\";\n",
    "echo CONSTANTE . \"\\n\";\n",
    "\n",
    "// Error en tiempo de ejecución si se intenta reasignar:\n",
    "// CONSTANTE = \"nuevo\"; // Fatal error"
   ]
  },
  {
   "cell_type": "markdown",
   "id": "35642bbe-a5db-4227-9eb3-7e0efd7c3178",
   "metadata": {},
   "source": [
    "## Funciones en PHP\n",
    "\n",
    "Las funciones en PHP pueden declararse en cualquier parte del script. Pueden tener parámetros con valores por defecto, argumentos con nombre (PHP 8.0+) y tipos de retorno."
   ]
  },
  {
   "cell_type": "code",
   "execution_count": null,
   "id": "e5aa6b08-f18f-42f2-ab33-d8891fbf0fa0",
   "metadata": {},
   "outputs": [],
   "source": [
    "<?php\n",
    "function saludar(string $nombre): string {\n",
    "    return \"¡Hola, $nombre!\";\n",
    "}\n",
    "\n",
    "echo saludar(\"María\") . \"\\n\";\n",
    "\n",
    "// Parámetros opcionales\n",
    "function despedirse(string $nombre = \"amigo\"): void {\n",
    "    echo \"Adiós, $nombre.\\n\";\n",
    "}\n",
    "\n",
    "despedirse();\n",
    "despedirse(\"Carlos\");\n",
    "\n",
    "// Valor de retorno\n",
    "function suma(int $a, int $b): int {\n",
    "    return $a + $b;\n",
    "}\n",
    "\n",
    "echo suma(3, 5) . \"\\n\"; // 8\n",
    "\n",
    "// Funciones integradas: strlen(), strtoupper(), strpos(), etc."
   ]
  },
  {
   "cell_type": "markdown",
   "id": "140178c7-b6fa-4cd0-91e4-35a02c06bd3a",
   "metadata": {},
   "source": [
    "## Programación Orientada a Objetos (POO) en PHP\n",
    "\n",
    "PHP soporta POO desde la versión 5, con características modernas como clases, herencia, interfaces, traits y desde PHP 8, atributos.\n",
    "\n",
    "### Clases y Objetos"
   ]
  },
  {
   "cell_type": "code",
   "execution_count": null,
   "id": "e4e1f8cf-aab9-4c95-aa4c-cc1bca3b0718",
   "metadata": {},
   "outputs": [],
   "source": [
    "<?php\n",
    "class Coche {\n",
    "    public string $marca;\n",
    "    public string $modelo;\n",
    "\n",
    "    public function __construct(string $marca, string $modelo) {\n",
    "        $this->marca = $marca;\n",
    "        $this->modelo = $modelo;\n",
    "    }\n",
    "\n",
    "    public function describir(): string {\n",
    "        return \"Este coche es un {$this->marca} {$this->modelo}.\";\n",
    "    }\n",
    "}\n",
    "\n",
    "$miCoche = new Coche(\"Toyota\", \"Corolla\");\n",
    "echo $miCoche->describir() . \"\\n\";"
   ]
  },
  {
   "cell_type": "markdown",
   "id": "64d5a18c-140f-447f-884a-9adb6c8f6791",
   "metadata": {},
   "source": [
    "### Principios fundamentales\n",
    "\n",
    "1. **Encapsulamiento**:  \n",
    "   Propiedades y métodos con visibilidad `public`, `private`, `protected`.\n",
    "\n",
    "2. **Herencia**:  \n",
    "   Se usa `extends` para heredar. PHP no permite herencia múltiple de clases, pero sí implementación múltiple de interfaces y uso de `traits`."
   ]
  },
  {
   "cell_type": "code",
   "execution_count": null,
   "id": "9d79ba90-dad2-4098-967a-827deaa7bd8b",
   "metadata": {},
   "outputs": [],
   "source": [
    "<?php\n",
    "class Vehiculo {\n",
    "    protected string $tipo;\n",
    "    public function __construct(string $tipo) {\n",
    "        $this->tipo = $tipo;\n",
    "    }\n",
    "}\n",
    "\n",
    "class Moto extends Vehiculo {\n",
    "    public function mostrarTipo(): string {\n",
    "        return \"Es una {$this->tipo}.\";\n",
    "    }\n",
    "}\n",
    "\n",
    "$miMoto = new Moto(\"motocicleta\");\n",
    "echo $miMoto->mostrarTipo() . \"\\n\";"
   ]
  },
  {
   "cell_type": "markdown",
   "id": "4b663857-b36a-4fbd-82f4-755cbaca32c1",
   "metadata": {},
   "source": [
    "3. **Polimorfismo**:  \n",
    "   Sobreescritura de métodos y uso de interfaces.\n",
    "\n",
    "4. **Abstracción**:  \n",
    "   Mediante clases abstractas o interfaces."
   ]
  },
  {
   "cell_type": "code",
   "execution_count": null,
   "id": "b9449e96-d722-40d2-8bda-5105ea01c48a",
   "metadata": {},
   "outputs": [],
   "source": [
    "<?php\n",
    "interface IAnimal {\n",
    "    public function hacerSonido(): string;\n",
    "}\n",
    "\n",
    "class Perro implements IAnimal {\n",
    "    public function hacerSonido(): string {\n",
    "        return \"¡Guau!\";\n",
    "    }\n",
    "}"
   ]
  },
  {
   "cell_type": "markdown",
   "id": "2e6fe1ce-6bb6-4a0d-ac7f-ccd98b5c75d3",
   "metadata": {},
   "source": [
    "### Características avanzadas\n",
    "\n",
    "- **Traits**: Permiten reutilizar métodos en múltiples clases sin herencia.\n",
    "- **Propiedades y métodos estáticos**: `ClassName::$propiedad` o `ClassName::metodo()`\n",
    "- **Atributos (PHP 8.0+)**: Sintaxis nativa para metadatos, reemplazando a los comentarios de documentación para casos complejos."
   ]
  },
  {
   "cell_type": "code",
   "execution_count": null,
   "id": "d663b086-4a83-4889-8a96-aed41d4985a6",
   "metadata": {},
   "outputs": [],
   "source": [
    "<?php\n",
    "class Matematicas {\n",
    "    public const PI = 3.1416;\n",
    "\n",
    "    public static function areaCirculo(float $radio): float {\n",
    "        return self::PI * $radio * $radio;\n",
    "    }\n",
    "}\n",
    "\n",
    "echo Matematicas::areaCirculo(2) . \"\\n\"; // 12.5664"
   ]
  },
  {
   "cell_type": "markdown",
   "id": "70a0ca9e-d51a-4b31-a0d6-00037482db52",
   "metadata": {},
   "source": [
    "## Manejo de Errores y Excepciones\n",
    "\n",
    "PHP usa una combinación de errores tradicionales y un sistema de excepciones moderno con `try`, `catch`, `finally` y `throw`. Desde PHP 8, muchos errores fatales se han convertido en excepciones `Error` que se pueden capturar."
   ]
  },
  {
   "cell_type": "code",
   "execution_count": null,
   "id": "52e05c6c-3fe9-4f59-8f66-e407347ba4d1",
   "metadata": {},
   "outputs": [],
   "source": [
    "<?php\n",
    "try {\n",
    "    $divisor = 0;\n",
    "    if ($divisor == 0) {\n",
    "        throw new DivisionByZeroError(\"No se puede dividir entre cero.\");\n",
    "    }\n",
    "    $resultado = 10 / $divisor;\n",
    "    echo \"Resultado: $resultado\\n\";\n",
    "} catch (DivisionByZeroError $e) {\n",
    "    echo \"Error: \" . $e->getMessage() . \"\\n\";\n",
    "} finally {\n",
    "    echo \"Operación finalizada.\\n\";\n",
    "}"
   ]
  },
  {
   "cell_type": "markdown",
   "id": "e81fe2e8-8548-4bbc-a04f-d18b9870eae3",
   "metadata": {},
   "source": [
    "## Colecciones y Arrays\n",
    "\n",
    "El tipo de dato fundamental para colecciones en PHP es el **array**, que es en realidad un mapa ordenado que puede funcionar como lista, vector, hash o diccionario. Los frameworks como Laravel ofrecen la clase `Collection` para operaciones más avanzadas."
   ]
  },
  {
   "cell_type": "code",
   "execution_count": null,
   "id": "e8665610-4a79-48fe-bb46-93c5d3624711",
   "metadata": {},
   "outputs": [],
   "source": [
    "<?php\n",
    "// Array asociativo (equivalente a Hash en Ruby)\n",
    "$usuario = [\n",
    "    \"nombre\" => \"Sofía\",\n",
    "    \"edad\" => 28,\n",
    "    \"activo\" => true\n",
    "];\n",
    "\n",
    "echo \"{$usuario['nombre']} tiene {$usuario['edad']} años.\\n\";\n",
    "\n",
    "// Lista de arrays asociativos (multidimensional)\n",
    "$productos = [\n",
    "    [\"nombre\" => \"Laptop\", \"precio\" => 1200],\n",
    "    [\"nombre\" => \"Mouse\", \"precio\" => 25],\n",
    "    [\"nombre\" => \"Teclado\", \"precio\" => 75]\n",
    "];\n",
    "\n",
    "echo \"Lista de productos:\\n\";\n",
    "foreach ($productos as $producto) {\n",
    "    echo \"- {$producto['nombre']}: \\${$producto['precio']}\\n\";\n",
    "}"
   ]
  },
  {
   "cell_type": "markdown",
   "id": "54753694-f7d3-44cc-b6d8-3ad7f26c51f3",
   "metadata": {},
   "source": [
    "## Tipado en PHP\n",
    "\n",
    "PHP es **dinámicamente tipado** por defecto, pero permite un **tipado estricto** a nivel de archivo con `declare(strict_types=1)`. Desde PHP 7, se pueden declarar tipos para parámetros y retornos, y desde PHP 8 se introdujeron tipos de unión (`string|int`), intersección (`A&B`) y nulables (`?string`)."
   ]
  },
  {
   "cell_type": "code",
   "execution_count": null,
   "id": "19c0d542-9f97-4b20-ac43-56a2f398d39c",
   "metadata": {},
   "outputs": [],
   "source": [
    "<?php\n",
    "declare(strict_types=1);\n",
    "\n",
    "function procesar(?string $mensaje): string {\n",
    "    return $mensaje ?? \"valor por defecto\";\n",
    "}\n",
    "\n",
    "// $numero = \"10\"; // Esto no es un error de tipado en sí, pero...\n",
    "// procesar(10); // ...esto lanzaría un TypeError con strict_types activado."
   ]
  },
  {
   "cell_type": "markdown",
   "id": "8917eb67-eeae-47dd-96d8-fc931f1da430",
   "metadata": {},
   "source": [
    "## Compilación y Compatibilidad\n",
    "\n",
    "PHP es un lenguaje **interpretado**, aunque su código fuente se compila internamente a **opcode** por el **motor Zend**. Este opcode es luego ejecutado por la máquina virtual de PHP.\n",
    "\n",
    "- **Multiplataforma**: Funciona en cualquier sistema operativo con un servidor web compatible.\n",
    "- **Rendimiento**: El opcode se puede cachear (con OPcache) para evitar la recompilación en cada petición. PHP 8+ incluye un compilador JIT para cargas de trabajo no web.\n",
    "- **Herramientas**: `php` CLI, editores como VS Code, PhpStorm, y frameworks como Laravel.\n",
    "- **Compatibilidad**: Las versiones mayores (7.x, 8.x) pueden introducir cambios rotos, por lo que es crucial gestionar las dependencias y versiones cuidadosamente."
   ]
  }
 ],
 "metadata": {
  "kernelspec": {
   "display_name": "PHP",
   "language": "php",
   "name": "php"
  },
  "language_info": {
   "file_extension": ".php",
   "mimetype": "text/x-php",
   "name": "PHP",
   "pygments_lexer": "PHP",
   "version": "8.3.6"
  }
 },
 "nbformat": 4,
 "nbformat_minor": 5
}
