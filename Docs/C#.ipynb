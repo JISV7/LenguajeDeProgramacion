{
 "cells": [
  {
   "cell_type": "markdown",
   "id": "73e5372a-d494-4df8-a161-9421eb705d0c",
   "metadata": {},
   "source": [
    "Origen e Historia de C#\n",
    "\n",
    "C# (pronunciado \"C Sharp\") fue desarrollado por **Microsoft** en **2000**, liderado por **Anders Hejlsberg** (Turbo Pascal, Delphi y TypeScript), como parte de la plataforma **.NET**. Fue diseñado para ser un lenguaje moderno, orientado a objetos y tipo seguro, combinando la potencia de C++ con la simplicidad de Java .\n",
    "\n",
    "Versiones importantes:\n",
    "- **C# 1.0 (2002)**: Primera versión con .NET Framework 1.0.\n",
    "- **C# 2.0 (2005)**: Introducción de genéricos, métodos anónimos y tipos nulables.\n",
    "- **C# 3.0 (2007)**: Expresiones lambda, inferencia de tipos (`var`) y LINQ.\n",
    "- **C# 5.0 (2012)**: Soporte para programación asíncrona con `async`/`await`.\n",
    "- **C# 8.0 (2019)**: Tipos de referencia nulables, patrones y más.\n",
    "- **C# 12 (2023)**: Mejoras en rendimiento, colecciones primarias y expresiones lambda mejoradas.\n",
    "\n",
    "## Ventajas de C#\n",
    "\n",
    "- **Tipo seguro y robusto**: El compilador detecta errores comunes antes de la ejecución.\n",
    "- **Alto rendimiento**: Compilado a **IL (Intermediate Language)** y luego a código nativo por el **CLR (Common Language Runtime)**.\n",
    "- **Ecosistema maduro**: Amplia biblioteca estándar (.NET) y herramientas como **Visual Studio**.\n",
    "- **Multiplataforma**: Desde .NET Core (ahora .NET 5+), funciona en Windows, Linux y macOS.\n",
    "- **Ideal para múltiples dominios**: Web (ASP.NET), escritorio (WPF, MAUI), móviles (Xamarin), juegos (Unity) y más.\n",
    "\n",
    "### Desventajas de C#\n",
    "- **Verbosidad**: Requiere más código que lenguajes dinámicos como Ruby o Python.\n",
    "- **Curva de aprendizaje**: Conceptos como memoria gestionada, genéricos o async/await pueden ser complejos para principiantes.\n",
    "\n",
    "## Comentarios en C#\n",
    "\n",
    "C# soporta tres tipos de comentarios:\n",
    "\n",
    "### 1. Comentario de una sola línea con `//`\n",
    "\n",
    "Cualquier texto después de `//` hasta el final de la línea se ignora."
   ]
  },
  {
   "cell_type": "code",
   "execution_count": 1,
   "id": "754486ef-19a7-455c-bf1f-aca0eeda29e7",
   "metadata": {},
   "outputs": [
    {
     "data": {
      "text/html": [
       "\r\n",
       "<div>\r\n",
       "    <div id='dotnet-interactive-this-cell-$CACHE_BUSTER$' style='display: none'>\r\n",
       "        The below script needs to be able to find the current output cell; this is an easy method to get it.\r\n",
       "    </div>\r\n",
       "    <script type='text/javascript'>\r\n",
       "async function probeAddresses(probingAddresses) {\r\n",
       "    function timeout(ms, promise) {\r\n",
       "        return new Promise(function (resolve, reject) {\r\n",
       "            setTimeout(function () {\r\n",
       "                reject(new Error('timeout'))\r\n",
       "            }, ms)\r\n",
       "            promise.then(resolve, reject)\r\n",
       "        })\r\n",
       "    }\r\n",
       "\r\n",
       "    if (Array.isArray(probingAddresses)) {\r\n",
       "        for (let i = 0; i < probingAddresses.length; i++) {\r\n",
       "\r\n",
       "            let rootUrl = probingAddresses[i];\r\n",
       "\r\n",
       "            if (!rootUrl.endsWith('/')) {\r\n",
       "                rootUrl = `${rootUrl}/`;\r\n",
       "            }\r\n",
       "\r\n",
       "            try {\r\n",
       "                let response = await timeout(1000, fetch(`${rootUrl}discovery`, {\r\n",
       "                    method: 'POST',\r\n",
       "                    cache: 'no-cache',\r\n",
       "                    mode: 'cors',\r\n",
       "                    timeout: 1000,\r\n",
       "                    headers: {\r\n",
       "                        'Content-Type': 'text/plain'\r\n",
       "                    },\r\n",
       "                    body: probingAddresses[i]\r\n",
       "                }));\r\n",
       "\r\n",
       "                if (response.status == 200) {\r\n",
       "                    return rootUrl;\r\n",
       "                }\r\n",
       "            }\r\n",
       "            catch (e) { }\r\n",
       "        }\r\n",
       "    }\r\n",
       "}\r\n",
       "\r\n",
       "function loadDotnetInteractiveApi() {\r\n",
       "    probeAddresses([\"http://127.0.0.1:2048/\",\"http://10.255.255.254:2048/\",\"http://::1:2048/\",\"http://192.168.1.102:2048/\",\"http://fe80::ff51:cb7c:1f06:c0e0%14:2048/\"])\r\n",
       "        .then((root) => {\r\n",
       "        // use probing to find host url and api resources\r\n",
       "        // load interactive helpers and language services\r\n",
       "        let dotnetInteractiveRequire = require.config({\r\n",
       "        context: '4437.Microsoft.DotNet.Interactive.Http.HttpPort',\r\n",
       "                paths:\r\n",
       "            {\r\n",
       "                'dotnet-interactive': `${root}resources`\r\n",
       "                }\r\n",
       "        }) || require;\r\n",
       "\r\n",
       "            window.dotnetInteractiveRequire = dotnetInteractiveRequire;\r\n",
       "\r\n",
       "            window.configureRequireFromExtension = function(extensionName, extensionCacheBuster) {\r\n",
       "                let paths = {};\r\n",
       "                paths[extensionName] = `${root}extensions/${extensionName}/resources/`;\r\n",
       "                \r\n",
       "                let internalRequire = require.config({\r\n",
       "                    context: extensionCacheBuster,\r\n",
       "                    paths: paths,\r\n",
       "                    urlArgs: `cacheBuster=${extensionCacheBuster}`\r\n",
       "                    }) || require;\r\n",
       "\r\n",
       "                return internalRequire\r\n",
       "            };\r\n",
       "        \r\n",
       "            dotnetInteractiveRequire([\r\n",
       "                    'dotnet-interactive/dotnet-interactive'\r\n",
       "                ],\r\n",
       "                function (dotnet) {\r\n",
       "                    dotnet.init(window);\r\n",
       "                },\r\n",
       "                function (error) {\r\n",
       "                    console.log(error);\r\n",
       "                }\r\n",
       "            );\r\n",
       "        })\r\n",
       "        .catch(error => {console.log(error);});\r\n",
       "    }\r\n",
       "\r\n",
       "// ensure `require` is available globally\r\n",
       "if ((typeof(require) !==  typeof(Function)) || (typeof(require.config) !== typeof(Function))) {\r\n",
       "    let require_script = document.createElement('script');\r\n",
       "    require_script.setAttribute('src', 'https://cdnjs.cloudflare.com/ajax/libs/require.js/2.3.6/require.min.js');\r\n",
       "    require_script.setAttribute('type', 'text/javascript');\r\n",
       "    \r\n",
       "    \r\n",
       "    require_script.onload = function() {\r\n",
       "        loadDotnetInteractiveApi();\r\n",
       "    };\r\n",
       "\r\n",
       "    document.getElementsByTagName('head')[0].appendChild(require_script);\r\n",
       "}\r\n",
       "else {\r\n",
       "    loadDotnetInteractiveApi();\r\n",
       "}\r\n",
       "\r\n",
       "    </script>\r\n",
       "</div>"
      ]
     },
     "metadata": {},
     "output_type": "display_data"
    },
    {
     "name": "stdout",
     "output_type": "stream",
     "text": [
      "Hola mundo\n"
     ]
    }
   ],
   "source": [
    "// Esto es un comentario de una línea\n",
    "Console.WriteLine(\"Hola mundo\");"
   ]
  },
  {
   "cell_type": "markdown",
   "id": "8f5534fa-7bd2-43f4-b377-1abf8b28b981",
   "metadata": {},
   "source": [
    "### 2. Comentario de múltiples líneas con `/* ... */`\n",
    "\n",
    "Útil para bloques extensos, aunque menos común en código moderno."
   ]
  },
  {
   "cell_type": "code",
   "execution_count": 2,
   "id": "9aef67df-1ca2-4ece-8ffc-4432dc158364",
   "metadata": {},
   "outputs": [
    {
     "name": "stdout",
     "output_type": "stream",
     "text": [
      "Fin del comentario\n"
     ]
    }
   ],
   "source": [
    "/*\n",
    "Este es un comentario\n",
    "de varias líneas.\n",
    "*/\n",
    "Console.WriteLine(\"Fin del comentario\");"
   ]
  },
  {
   "cell_type": "markdown",
   "id": "78b1c5a8-641e-4e50-896b-eb55907692a8",
   "metadata": {},
   "source": [
    "### 3. Comentarios XML para documentación\n",
    "\n",
    "Usados para generar documentación automática con `///`. (Igual que en Rust🦀 pero sin el XML💩)"
   ]
  },
  {
   "cell_type": "code",
   "execution_count": 3,
   "id": "d1144f9a-d5ba-4bd7-8007-cd62fa15b381",
   "metadata": {},
   "outputs": [],
   "source": [
    "/// <summary>\n",
    "/// Saluda a una persona por su nombre.\n",
    "/// </summary>\n",
    "/// <param name=\"nombre\">Nombre de la persona</param>\n",
    "/// <returns>Mensaje de saludo</returns>\n",
    "static string Saludar(string nombre) => $\"¡Hola, {nombre}!\";"
   ]
  },
  {
   "cell_type": "markdown",
   "id": "eab63b4a-4ea5-4df4-9579-21ae4d213090",
   "metadata": {},
   "source": [
    "## Variables y Tipos de Datos\n",
    "\n",
    "C# es un lenguaje **estáticamente tipado**: el tipo de una variable debe declararse explícitamente o inferirse con `var`. Todos los tipos derivan de `object`.\n",
    "\n",
    "### Tipos de datos primitivos\n",
    "1. **Integral**: `int`, `long`, `byte`, `sbyte`, `short`, `uint`, etc.\n",
    "2. **Punto flotante**: `float`, `double`, `decimal`\n",
    "3. **Texto**: `string`, `char`\n",
    "4. **Booleano**: `bool`\n",
    "5. **Objeto**: `object`\n",
    "6. **Nulo**: `null` (solo para tipos referencia o nulables)"
   ]
  },
  {
   "cell_type": "code",
   "execution_count": 17,
   "id": "9f06c058-7c59-4873-bdc6-8c69f2689a19",
   "metadata": {},
   "outputs": [
    {
     "name": "stdout",
     "output_type": "stream",
     "text": [
      "Ana tiene 25 años.\n"
     ]
    }
   ],
   "source": [
    "string nombre = \"Ana\";    // cadena\n",
    "int edad = 25;            // entero\n",
    "bool activo = true;       // booleano\n",
    "const double PI = 3.1416; // constante\n",
    "Console.WriteLine($\"{nombre} tiene {edad} años.\");"
   ]
  },
  {
   "cell_type": "markdown",
   "id": "a02b470e-3efc-4b56-b085-9151e1d231a4",
   "metadata": {},
   "source": [
    "## Estructuras de Control\n",
    "\n",
    "C# ofrece estructuras de control familiares para lenguajes de estilo C."
   ]
  },
  {
   "cell_type": "code",
   "execution_count": 6,
   "id": "f3453b0f-a644-45ec-b502-b2132732312a",
   "metadata": {},
   "outputs": [
    {
     "name": "stdout",
     "output_type": "stream",
     "text": [
      "Eres mayor de edad.\n",
      "Acceso limitado\n",
      "For: 0\n",
      "For: 1\n",
      "For: 2\n",
      "For: 3\n",
      "For: 4\n",
      "While: 0\n",
      "While: 1\n",
      "While: 2\n",
      "Do-while: 0\n",
      "Do-while: 1\n",
      "Fruit: manzana\n",
      "Fruit: banana\n",
      "Fruit: cereza\n"
     ]
    }
   ],
   "source": [
    "int edad = 20;\n",
    "\n",
    "// Condicionales\n",
    "if (edad >= 18)\n",
    "{\n",
    "    Console.WriteLine(\"Eres mayor de edad.\");\n",
    "}\n",
    "else if (edad > 0)\n",
    "{\n",
    "    Console.WriteLine(\"Eres menor.\");\n",
    "}\n",
    "else\n",
    "{\n",
    "    Console.WriteLine(\"Edad inválida.\");\n",
    "}\n",
    "\n",
    "// Switch con patrones (C# 8+)\n",
    "string tipo = \"usuario\";\n",
    "switch (tipo)\n",
    "{\n",
    "    case \"admin\":\n",
    "        Console.WriteLine(\"Acceso total\");\n",
    "        break;\n",
    "    default:\n",
    "        Console.WriteLine(\"Acceso limitado\");\n",
    "        break;\n",
    "}\n",
    "\n",
    "// Bucles\n",
    "for (int i = 0; i < 5; i++)\n",
    "{\n",
    "    Console.WriteLine($\"For: {i}\");\n",
    "}\n",
    "\n",
    "int contador = 0;\n",
    "while (contador < 3)\n",
    "{\n",
    "    Console.WriteLine($\"While: {contador}\");\n",
    "    contador++;\n",
    "}\n",
    "\n",
    "int contador2 = 0;\n",
    "do\n",
    "{\n",
    "    Console.WriteLine($\"Do-while: {contador2}\");\n",
    "    contador2++;\n",
    "} while (contador2 < 2);\n",
    "\n",
    "// Iteración sobre colecciones\n",
    "string[] frutas = { \"manzana\", \"banana\", \"cereza\" };\n",
    "foreach (string fruta in frutas)\n",
    "{\n",
    "    Console.WriteLine($\"Fruit: {fruta}\");\n",
    "}"
   ]
  },
  {
   "cell_type": "markdown",
   "id": "9ed6c5ce-97ec-4c87-8388-d44d4880b00c",
   "metadata": {},
   "source": [
    "## Operadores y Comparadores\n",
    "\n",
    "C# incluye operadores estándar y algunos avanzados:\n",
    "\n",
    "- **Aritméticos**: `+`, `-`, `*`, `/`, `%`\n",
    "- **Asignación**: `=`, `+=`, `??=` (asignación nula-coalescente)\n",
    "- **Comparación**: `==`, `!=`, `<`, `>`, `<=`, `>=`\n",
    "- **Lógicos**: `&&`, `||`, `!`\n",
    "- **Nulo-coalescente**: `??` (devuelve valor si no es nulo, sino el otro)\n",
    "- **Condicionales**: `?:` (operador ternario)"
   ]
  },
  {
   "cell_type": "code",
   "execution_count": 7,
   "id": "ddf7cac6-1ff6-4839-b8d7-c92f44ec6ff3",
   "metadata": {},
   "outputs": [
    {
     "name": "stdout",
     "output_type": "stream",
     "text": [
      "3\n",
      "Valor por defecto\n"
     ]
    }
   ],
   "source": [
    "int a = 10, b = 3;\n",
    "Console.WriteLine(a / b); // 3 (división entera)\n",
    "\n",
    "string mensaje = null;\n",
    "string valor = mensaje ?? \"Valor por defecto\";\n",
    "Console.WriteLine(valor); // \"Valor por defecto\"\n",
    "\n",
    "bool esMayor = edad >= 18 ? true : false;"
   ]
  },
  {
   "cell_type": "markdown",
   "id": "0cfc729e-9ec1-44fc-a279-02ef68f222a0",
   "metadata": {},
   "source": [
    "## Constantes\n",
    "\n",
    "Las constantes se declaran con `const` y deben inicializarse en la declaración. Son inmutables y evaluadas en tiempo de compilación."
   ]
  },
  {
   "cell_type": "code",
   "execution_count": 8,
   "id": "a4b6d016-338f-475b-bcc6-f3775c3bd27d",
   "metadata": {},
   "outputs": [
    {
     "name": "stdout",
     "output_type": "stream",
     "text": [
      "777\n"
     ]
    }
   ],
   "source": [
    "const string CONSTANTE = \"777\";\n",
    "Console.WriteLine(CONSTANTE);\n",
    "\n",
    "// Error en compilación si se intenta reasignar:\n",
    "// CONSTANTE = \"nuevo\"; // CS0131"
   ]
  },
  {
   "cell_type": "markdown",
   "id": "35642bbe-a5db-4227-9eb3-7e0efd7c3178",
   "metadata": {},
   "source": [
    "## Funciones en C#\n",
    "\n",
    "En C#, las funciones se llaman **métodos** y deben estar dentro de una clase. Pueden tener parámetros, valores de retorno y sobrecarga."
   ]
  },
  {
   "cell_type": "code",
   "execution_count": 9,
   "id": "e5aa6b08-f18f-42f2-ab33-d8891fbf0fa0",
   "metadata": {},
   "outputs": [
    {
     "name": "stdout",
     "output_type": "stream",
     "text": [
      "¡Hola, María!\n",
      "Adiós, amigo.\n",
      "Adiós, Carlos.\n",
      "8\n"
     ]
    }
   ],
   "source": [
    "// Método estático para uso sin instancia\n",
    "static string Saludar(string nombre) => $\"¡Hola, {nombre}!\";\n",
    "\n",
    "Console.WriteLine(Saludar(\"María\"));\n",
    "\n",
    "// Parámetros opcionales\n",
    "static void Despedirse(string nombre = \"amigo\")\n",
    "{\n",
    "    Console.WriteLine($\"Adiós, {nombre}.\");\n",
    "}\n",
    "\n",
    "Despedirse();\n",
    "Despedirse(\"Carlos\");\n",
    "\n",
    "// Valor de retorno\n",
    "static int Suma(int a, int b) => a + b;\n",
    "\n",
    "Console.WriteLine(Suma(3, 5)); // 8\n",
    "\n",
    "// Métodos integrados: .Length, .ToUpper(), .Contains(), etc."
   ]
  },
  {
   "cell_type": "markdown",
   "id": "140178c7-b6fa-4cd0-91e4-35a02c06bd3a",
   "metadata": {},
   "source": [
    "## Programación Orientada a Objetos (POO) en C#\n",
    "\n",
    "C# es un lenguaje **orientado a objetos puro**, con soporte completo para encapsulamiento, herencia, polimorfismo y abstracción.\n",
    "\n",
    "### Clases y Objetos"
   ]
  },
  {
   "cell_type": "code",
   "execution_count": 10,
   "id": "e4e1f8cf-aab9-4c95-aa4c-cc1bca3b0718",
   "metadata": {},
   "outputs": [
    {
     "name": "stdout",
     "output_type": "stream",
     "text": [
      "Este coche es un Toyota Corolla.\n"
     ]
    }
   ],
   "source": [
    "class Coche\n",
    "{\n",
    "    public string Marca { get; set; }\n",
    "    public string Modelo { get; set; }\n",
    "\n",
    "    public Coche(string marca, string modelo)\n",
    "    {\n",
    "        Marca = marca;\n",
    "        Modelo = modelo;\n",
    "    }\n",
    "\n",
    "    public string Describir() => $\"Este coche es un {Marca} {Modelo}.\";\n",
    "}\n",
    "\n",
    "var miCoche = new Coche(\"Toyota\", \"Corolla\");\n",
    "Console.WriteLine(miCoche.Describir());"
   ]
  },
  {
   "cell_type": "markdown",
   "id": "64d5a18c-140f-447f-884a-9adb6c8f6791",
   "metadata": {},
   "source": [
    "### Principios fundamentales\n",
    "\n",
    "1. **Encapsulamiento**:  \n",
    "   Propiedades con `get`/`set`, y modificadores de acceso (`public`, `private`, `protected`).\n",
    "\n",
    "2. **Herencia**:  \n",
    "   Se usa `:` para heredar. C# no permite herencia múltiple, pero sí implementación múltiple de interfaces."
   ]
  },
  {
   "cell_type": "code",
   "execution_count": 11,
   "id": "9d79ba90-dad2-4098-967a-827deaa7bd8b",
   "metadata": {},
   "outputs": [
    {
     "name": "stdout",
     "output_type": "stream",
     "text": [
      "Es una motocicleta.\n"
     ]
    }
   ],
   "source": [
    "class Vehiculo\n",
    "{\n",
    "    protected string Tipo;\n",
    "    public Vehiculo(string tipo) => Tipo = tipo;\n",
    "}\n",
    "\n",
    "class Moto : Vehiculo\n",
    "{\n",
    "    public Moto(string tipo) : base(tipo) { }\n",
    "\n",
    "    public string MostrarTipo() => $\"Es una {Tipo}.\";\n",
    "}\n",
    "\n",
    "var miMoto = new Moto(\"motocicleta\");\n",
    "Console.WriteLine(miMoto.MostrarTipo());"
   ]
  },
  {
   "cell_type": "markdown",
   "id": "4b663857-b36a-4fbd-82f4-755cbaca32c1",
   "metadata": {},
   "source": [
    "3. **Polimorfismo**:  \n",
    "   Sobreescritura de métodos con `virtual`/`override`.\n",
    "\n",
    "4. **Abstracción**:  \n",
    "   Mediante clases abstractas o interfaces."
   ]
  },
  {
   "cell_type": "code",
   "execution_count": 12,
   "id": "b9449e96-d722-40d2-8bda-5105ea01c48a",
   "metadata": {},
   "outputs": [],
   "source": [
    "interface IAnimal\n",
    "{\n",
    "    string HacerSonido();\n",
    "}\n",
    "\n",
    "class Perro : IAnimal\n",
    "{\n",
    "    public string HacerSonido() => \"¡Guau!\";\n",
    "}"
   ]
  },
  {
   "cell_type": "markdown",
   "id": "2e6fe1ce-6bb6-4a0d-ac7f-ccd98b5c75d3",
   "metadata": {},
   "source": [
    "### Características avanzadas\n",
    "\n",
    "- **Métodos estáticos**: `ClassName.Metodo()`\n",
    "- **Propiedades automáticas**: `public string Nombre { get; set; }`\n",
    "- **Registros (records)**: Tipos inmutables por valor (C# 9+)"
   ]
  },
  {
   "cell_type": "code",
   "execution_count": 13,
   "id": "d663b086-4a83-4889-8a96-aed41d4985a6",
   "metadata": {},
   "outputs": [
    {
     "name": "stdout",
     "output_type": "stream",
     "text": [
      "12.5664\n"
     ]
    }
   ],
   "source": [
    "public static class Matematicas\n",
    "{\n",
    "    public const double PI = 3.1416;\n",
    "\n",
    "    public static double AreaCirculo(double radio) => PI * radio * radio;\n",
    "}\n",
    "\n",
    "Console.WriteLine(Matematicas.AreaCirculo(2)); // 12.5664"
   ]
  },
  {
   "cell_type": "markdown",
   "id": "70a0ca9e-d51a-4b31-a0d6-00037482db52",
   "metadata": {},
   "source": [
    "## Manejo de Errores y Excepciones\n",
    "\n",
    "C# usa bloques `try`, `catch`, `finally` y `throw` para el manejo estructurado de errores."
   ]
  },
  {
   "cell_type": "code",
   "execution_count": 14,
   "id": "52e05c6c-3fe9-4f59-8f66-e407347ba4d1",
   "metadata": {},
   "outputs": [
    {
     "name": "stdout",
     "output_type": "stream",
     "text": [
      "Error: No se puede dividir entre cero.\n",
      "Operación finalizada.\n"
     ]
    }
   ],
   "source": [
    "try\n",
    "{\n",
    "    int divisor = 0;\n",
    "    if (divisor == 0)\n",
    "    {\n",
    "        throw new DivideByZeroException(\"No se puede dividir entre cero.\");\n",
    "    }\n",
    "    int resultado = 10 / divisor;\n",
    "    Console.WriteLine($\"Resultado: {resultado}\");\n",
    "}\n",
    "catch (DivideByZeroException e)\n",
    "{\n",
    "    Console.WriteLine($\"Error: {e.Message}\");\n",
    "}\n",
    "finally\n",
    "{\n",
    "    Console.WriteLine(\"Operación finalizada.\");\n",
    "}"
   ]
  },
  {
   "cell_type": "markdown",
   "id": "e81fe2e8-8548-4bbc-a04f-d18b9870eae3",
   "metadata": {},
   "source": [
    "## Colecciones y Diccionarios\n",
    "\n",
    "C# ofrece colecciones genéricas fuertemente tipadas:\n",
    "\n",
    "- **Listas**: `List<T>`\n",
    "- **Diccionarios**: `Dictionary<TKey, TValue>`\n",
    "- **Arrays**: `T[]`"
   ]
  },
  {
   "cell_type": "code",
   "execution_count": 15,
   "id": "e8665610-4a79-48fe-bb46-93c5d3624711",
   "metadata": {},
   "outputs": [
    {
     "name": "stdout",
     "output_type": "stream",
     "text": [
      "Sofía tiene 28 años.\n",
      "Lista de productos:\n",
      "- Laptop: $1200\n",
      "- Mouse: $25\n",
      "- Teclado: $75\n"
     ]
    }
   ],
   "source": [
    "// Diccionario (equivalente a Hash en Ruby)\n",
    "var usuario = new Dictionary<string, object>\n",
    "{\n",
    "    { \"nombre\", \"Sofía\" },\n",
    "    { \"edad\", 28 },\n",
    "    { \"activo\", true }\n",
    "};\n",
    "\n",
    "Console.WriteLine($\"{usuario[\"nombre\"]} tiene {usuario[\"edad\"]} años.\");\n",
    "\n",
    "// Lista de objetos (multidimensional)\n",
    "var productos = new List<Dictionary<string, object>>\n",
    "{\n",
    "    new() { { \"nombre\", \"Laptop\" }, { \"precio\", 1200 } },\n",
    "    new() { { \"nombre\", \"Mouse\" }, { \"precio\", 25 } },\n",
    "    new() { { \"nombre\", \"Teclado\" }, { \"precio\", 75 } }\n",
    "};\n",
    "\n",
    "Console.WriteLine(\"Lista de productos:\");\n",
    "foreach (var producto in productos)\n",
    "{\n",
    "    Console.WriteLine($\"- {producto[\"nombre\"]}: ${producto[\"precio\"]}\");\n",
    "}"
   ]
  },
  {
   "cell_type": "markdown",
   "id": "54753694-f7d3-44cc-b6d8-3ad7f26c51f3",
   "metadata": {},
   "source": [
    "## Tipado en C#\n",
    "\n",
    "C# es **estáticamente tipado** y **fuertemente tipado**: los tipos se verifican en tiempo de compilación y no se permiten conversiones implícitas peligrosas. Desde C# 8, se introdujeron **tipos de referencia nullables** para prevenir excepciones `NullReferenceException`."
   ]
  },
  {
   "cell_type": "code",
   "execution_count": 24,
   "id": "19c0d542-9f97-4b20-ac43-56a2f398d39c",
   "metadata": {},
   "outputs": [],
   "source": [
    "#nullable enable // The annotation for nullable reference types\n",
    "string? mensaje = null; // tipo nullable\n",
    "string noNulo = mensaje ?? \"valor por defecto\";\n",
    "// int numero = \"10\"; // Error de compilación"
   ]
  },
  {
   "cell_type": "markdown",
   "id": "8917eb67-eeae-47dd-96d8-fc931f1da430",
   "metadata": {},
   "source": [
    "## Compilación y Compatibilidad\n",
    "\n",
    "C# es un lenguaje **compilado**: el código fuente se compila a **IL (Intermediate Language)**, que luego es ejecutado por el **CLR (Common Language Runtime)** mediante **JIT (Just-In-Time)**.\n",
    "\n",
    "- **Multiplataforma**: .NET 5+ es compatible con Windows, Linux y macOS.\n",
    "- **Rendimiento**: Alto rendimiento gracias a optimizaciones del JIT y AOT (Ahead-of-Time) en .NET 8+.\n",
    "- **Herramientas**: `dotnet` CLI, Visual Studio, Rider, etc.\n",
    "- **Compatibilidad**: Versiones de C# están ligadas a versiones de .NET, pero el lenguaje evoluciona de forma retrocompatible."
   ]
  }
 ],
 "metadata": {
  "kernelspec": {
   "display_name": ".NET (C#)",
   "language": "C#",
   "name": ".net-csharp"
  },
  "language_info": {
   "file_extension": ".cs",
   "mimetype": "text/x-csharp",
   "name": "C#",
   "pygments_lexer": "csharp",
   "version": "13.0"
  }
 },
 "nbformat": 4,
 "nbformat_minor": 5
}
